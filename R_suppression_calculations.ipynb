{
 "cells": [
  {
   "cell_type": "code",
   "execution_count": 1,
   "metadata": {},
   "outputs": [],
   "source": [
    "import numpy as np\n",
    "from dataclasses import dataclass\n",
    "import matplotlib.pyplot as plt\n",
    "from scipy.stats import gamma, lognorm, norm\n",
    "import scipy.integrate as integrate\n",
    "from time import sleep\n",
    "\n",
    "import warnings\n",
    "warnings.filterwarnings('ignore')"
   ]
  },
  {
   "cell_type": "markdown",
   "metadata": {},
   "source": [
    "## General utils"
   ]
  },
  {
   "cell_type": "code",
   "execution_count": 2,
   "metadata": {},
   "outputs": [],
   "source": [
    "def gamma_density(x, alpha, beta):\n",
    "    return gamma.pdf(x, a=alpha, scale=1/beta)\n",
    "\n",
    "def lognormal_cdf(x, mu, sigma):\n",
    "    return norm.cdf((np.log(x) - mu)/sigma)\n",
    "\n",
    "def plot_functions(fs, x_min, x_max, step):\n",
    "    x_values = np.arange(x_min, x_max, step)\n",
    "    for i, f in enumerate(fs):\n",
    "        plt.plot(x_values, [f(x) for x in x_values], label=str(i))\n",
    "    plt.legend()\n",
    "    plt.show()\n",
    "\n",
    "@dataclass\n",
    "class DeltaMeasure:\n",
    "    position: float\n",
    "    height: float\n",
    "\n",
    "\n",
    "def convolve(f1, f2, x_min, x_max, step):\n",
    "    if isinstance(f2, DeltaMeasure):\n",
    "        return lambda x: f2.height * f1(x - f2.position)\n",
    "    raise ValueError(\"Not implemented yet\")  # TODO: add\n",
    "#     x_values = np.arange(x_min, x_max, step)\n",
    "#     f1_samples = [f1(x) for x in x_values]\n",
    "#     f2_samples = [f2(x) for x in x_values]\n",
    "#     g_samples = np.convolve(f1_samples, f2_samples, mode='same') * step\n",
    "    \n",
    "#     print(f1_samples)\n",
    "#     print(g_samples)\n",
    "    \n",
    "#     def g(x):\n",
    "#         if x_min < x < x_max:\n",
    "#             return np.interp(x, x_values, g_samples)\n",
    "#         else:\n",
    "#             return 0\n",
    "#     return g\n",
    "\n",
    "def list_from_f(f, x_min, x_max, step):\n",
    "    x_values = np.arange(x_min, x_max + step, step )\n",
    "    return [f(x) for x in x_values]\n",
    "\n",
    "def f_from_list(f_values, x_min, x_max, step):\n",
    "    \n",
    "    def f(x):\n",
    "        if x < x_min:\n",
    "            return f_values[0]\n",
    "        if x> x_max:\n",
    "            return f_values[-1]\n",
    "        i = int((x-x_min)/step)\n",
    "        return f_values[i]\n",
    "    \n",
    "    return f"
   ]
  },
  {
   "cell_type": "markdown",
   "metadata": {},
   "source": [
    "Example of convolution"
   ]
  },
  {
   "cell_type": "code",
   "execution_count": 3,
   "metadata": {},
   "outputs": [
    {
     "data": {
      "image/png": "[encoded data removed]",
      "text/plain": [
       "<Figure size 432x288 with 1 Axes>"
      ]
     },
     "metadata": {
      "needs_background": "light"
     },
     "output_type": "display_data"
    }
   ],
   "source": [
    "f1 = lambda x: gamma_density(x-10, 4, 1)\n",
    "# f2= lambda x: gamma_density(x-10, 20, 20)\n",
    "f2 = DeltaMeasure(position=5, height=1)\n",
    "\n",
    "g = convolve(f1, f2, 0, 30, 1)\n",
    "plot_functions([f1, g], 0, 30, 0.1)\n",
    "# plot_function(g, 0, 30, 0.1)"
   ]
  },
  {
   "cell_type": "markdown",
   "metadata": {},
   "source": [
    "# Setting up the parameters"
   ]
  },
  {
   "cell_type": "markdown",
   "metadata": {},
   "source": [
    "Parameters for numerical computations:"
   ]
  },
  {
   "cell_type": "code",
   "execution_count": 4,
   "metadata": {},
   "outputs": [],
   "source": [
    "# Maximum tau for integrals in the relative time:\n",
    "tau_max = 30\n",
    "# Step for integrals and convolutions\n",
    "step = 0.03"
   ]
  },
  {
   "cell_type": "markdown",
   "metadata": {},
   "source": [
    "## Reproduction number (no contact tracing)\n",
    "\n",
    "$$R^0_t = \\int_{[0,+\\infty)}r^0_t(\\tau)\\mathrm{d}\\tau $$\n",
    "\n",
    "Below, $r^0_t$ is modeled with a gamma distribution, whose parameters $\\alpha$ and $\\beta$ are taken from [this sheet](https://docs.google.com/spreadsheets/d/1rJeG96_4ODDyM7CIfIYahTxOsx6FDRFuig-To0y_g5I/edit#gid=755170273).\n",
    "The dependency on the absolute time is simply realized through a global scale factor $\\psi_t$:\n",
    "$$r^0_t = r^0_0\\psi_t$$"
   ]
  },
  {
   "cell_type": "code",
   "execution_count": 5,
   "metadata": {},
   "outputs": [
    {
     "name": "stdout",
     "output_type": "stream",
     "text": [
      "The function r^0_0:\n"
     ]
    },
    {
     "data": {
      "image/png": "[encoded data removed]",
      "text/plain": [
       "<Figure size 432x288 with 1 Axes>"
      ]
     },
     "metadata": {
      "needs_background": "light"
     },
     "output_type": "display_data"
    },
    {
     "name": "stdout",
     "output_type": "stream",
     "text": [
      "Integral of r^0_0: 0.9999787246061232\n"
     ]
    }
   ],
   "source": [
    "R0_0 = 1\n",
    "alpha=4.865916955\n",
    "beta=0.6487889273\n",
    "\n",
    "def r0_0(tau):\n",
    "    return R0_0 * gamma_density(tau, alpha, beta)\n",
    "\n",
    "print(\"The function r^0_0:\")\n",
    "plot_functions([r0_0], x_min=0, x_max=tau_max, step=step)\n",
    "\n",
    "print(\"Integral of r^0_0:\", integrate.quad(r0_0, 0, 30)[0])  # Should give back R0\n",
    "\n",
    "def psi(t):\n",
    "    return 1\n",
    "\n",
    "def R0(t):\n",
    "    return R0_0 * psi(t)\n",
    "\n",
    "def r0(t, tau):\n",
    "    return R0(t) * r0_0(tau)"
   ]
  },
  {
   "cell_type": "markdown",
   "metadata": {},
   "source": [
    "## Incubation period distribution\n",
    "\n",
    "With $\\tau^S$ we denote the random variable describing the time of appearance of symptoms of an infected person. $F^S$ denotes its CDF.\n",
    "\n",
    "The model used here of $\\tau^S$ as a lognormally distributed variable is taken from [Ferretti et al.](https://science.sciencemag.org/content/early/2020/04/09/science.abb6936), table 1."
   ]
  },
  {
   "cell_type": "code",
   "execution_count": 6,
   "metadata": {},
   "outputs": [
    {
     "name": "stdout",
     "output_type": "stream",
     "text": [
      "The CDF of tau^S:\n"
     ]
    },
    {
     "data": {
      "image/png": "[encoded data removed]",
      "text/plain": [
       "<Figure size 432x288 with 1 Axes>"
      ]
     },
     "metadata": {
      "needs_background": "light"
     },
     "output_type": "display_data"
    }
   ],
   "source": [
    "# Incubation period distribution\n",
    "    \n",
    "# See [1], table 1\n",
    "mu = 1.644\n",
    "sigma = 0.363\n",
    "\n",
    "def FS(tau):\n",
    "    if tau>0:\n",
    "        return lognormal_cdf(tau, mu, sigma)\n",
    "    else:\n",
    "        return 0\n",
    "\n",
    "print(\"The CDF of tau^S:\")\n",
    "plot_functions([FS], x_min=0, x_max=tau_max, step=step)"
   ]
  },
  {
   "cell_type": "markdown",
   "metadata": {},
   "source": [
    "## Action times distributions\n",
    "\n",
    "$\\tau^{A,s}$: time of action induced by symptoms  \n",
    "$\\tau^{A,c}_t$: time of action induced by knowledge of a positive contact, for an individual infected at absolute time $t$.  \n",
    "$\\tau^A_t=\\min(\\tau^{A,s}, \\tau^{A,c}_t)$: time of any action\n",
    "\n",
    "\n",
    "Note that the definition of $\\tau^A_t$ implies\n",
    "$$F^A_t(\\tau) = F^{A,s}(\\tau) + F^{A,c}_t(\\tau) - F^{A,s}_t(\\tau)F^{A,c}_t(\\tau).$$"
   ]
  },
  {
   "cell_type": "code",
   "execution_count": 7,
   "metadata": {},
   "outputs": [],
   "source": [
    "sS = 1. # Probability of (immediate) CTA given symptoms\n",
    "\n",
    "def FAs(tau):\n",
    "    return sS * FS(tau)"
   ]
  },
  {
   "cell_type": "code",
   "execution_count": 8,
   "metadata": {},
   "outputs": [
    {
     "name": "stdout",
     "output_type": "stream",
     "text": [
      "The CDF of tau^{A,s}:\n"
     ]
    },
    {
     "data": {
      "image/png": "[encoded data removed]",
      "text/plain": [
       "<Figure size 432x288 with 1 Axes>"
      ]
     },
     "metadata": {
      "needs_background": "light"
     },
     "output_type": "display_data"
    }
   ],
   "source": [
    "print(\"The CDF of tau^{A,s}:\")\n",
    "plot_functions([FAs], x_min=0, x_max=tau_max, step=step)"
   ]
  },
  {
   "cell_type": "markdown",
   "metadata": {},
   "source": [
    "# Corrected reproduction number\n",
    "\n",
    "NB: for simplicity we ignore, in the absolute time dependency, the suppression of $R$ due to the reduction in the number of susceptible induviduals, as this happens on a larger time scale that the one considered here."
   ]
  },
  {
   "cell_type": "markdown",
   "metadata": {},
   "source": [
    "1) Estimating $r^\\text{corr}$ from the knowledge of $\\tau^T$\n",
    "\n",
    "$$r_t(\\tau) = (1-\\xi\\,F^T_t(\\tau))r^0_t(\\tau)$$\n",
    "\n",
    "$\\xi$=probability that an individual tested positive self-isolates"
   ]
  },
  {
   "cell_type": "code",
   "execution_count": 11,
   "metadata": {},
   "outputs": [],
   "source": [
    "# Corrected reproduction number\n",
    "\n",
    "def make_r_t_from_test_cdf(r0_t, F_T, xi):\n",
    "    return lambda tau: r0_t(tau)*(1 - F_T(tau) * xi)\n",
    "\n",
    "def make_r_from_test_cdf(r0, F_T, xi):\n",
    "    return lambda t, tau: r0(t, tau)*(1 - F_T(t, tau) * xi)\n",
    "\n"
   ]
  },
  {
   "cell_type": "markdown",
   "metadata": {},
   "source": [
    "**Example:** constant testing time $\\tau^\\text{T}$ peaked at $\\tau=10$"
   ]
  },
  {
   "cell_type": "code",
   "execution_count": 10,
   "metadata": {},
   "outputs": [
    {
     "name": "stdout",
     "output_type": "stream",
     "text": [
      "Plot of r0 and r_corr:\n"
     ]
    },
    {
     "data": {
      "image/png": "[encoded data removed]",
      "text/plain": [
       "<Figure size 432x288 with 1 Axes>"
      ]
     },
     "metadata": {
      "needs_background": "light"
     },
     "output_type": "display_data"
    },
    {
     "name": "stdout",
     "output_type": "stream",
     "text": [
      "R_0 = 0.8546348985819439\n"
     ]
    }
   ],
   "source": [
    "tau_s = 10\n",
    "F_Tsimple = lambda tau: np.heaviside(tau - tau_s, 1)\n",
    "xi = 0.7  # Probability of (immediate) isolation given positive test\n",
    "\n",
    "r_0 = make_r_t_from_test_cdf(r0_0, F_Tsimple, xi)\n",
    "\n",
    "print(\"Plot of r0 and r_corr:\")\n",
    "plot_functions([r0_0, r_0], x_min=0, x_max=tau_max, step=step)\n",
    "\n",
    "R_0 = integrate.quad(lambda tau: r_0(tau), 0, tau_max)[0]\n",
    "print(\"R_0 =\",R_0)"
   ]
  },
  {
   "cell_type": "markdown",
   "metadata": {},
   "source": [
    "2) Estimating $r_t$ from the knowledge of $\\tau^{A,s}$, $\\tau^{A,c}_t$ and $\\Delta^{A\\to T}$.\n",
    "\n",
    "Here $\\Delta^{A\\to T}$ is the time taken for an infected individual from the instant of action to the instanct of positive testing, i.e.\n",
    "$$\\tau^T_t = \\tau^A_t + \\Delta^{A\\to T}$$\n",
    "and hence\n",
    "$$F^T_t(\\tau) = \\int_{[0,+\\infty)}F^A_t(\\tau')p_{\\Delta^{A\\to T}}(\\tau-\\tau')\\mathrm{d}\\tau'.$$"
   ]
  },
  {
   "cell_type": "markdown",
   "metadata": {},
   "source": [
    "**Example:** $p_{\\Delta^{A\\to T}}$ concentrated in a point $\\Delta t_\\text{test}$"
   ]
  },
  {
   "cell_type": "code",
   "execution_count": 11,
   "metadata": {},
   "outputs": [],
   "source": [
    "Deltat_test = 1\n",
    "p_DeltaAT = DeltaMeasure(position=Deltat_test, height=1)\n",
    "\n",
    "# height = 2\n",
    "# p_DeltaAT = lambda sigma: height * (np.heaviside(sigma - position, 1) - np.heaviside(sigma - (position + 1/height), 1))\n",
    "\n",
    "# plot_function(p_DeltaAT, x_min=0, x_max=30, step=0.1)\n",
    "# print(integrate.quad(p_DeltaAT, 0, 30)[0])"
   ]
  },
  {
   "cell_type": "markdown",
   "metadata": {},
   "source": [
    "## Evolution of $R_t$ in the homogeneous model\n",
    "\n",
    "$$s^\\text{C}_tF^\\text{T}_t(\\tau) \\simeq F^\\text{A,c}_{t+\\mathbb{E}(\\tau^\\text{C}_t)}(\\tau - \\mathbb{E}(\\tau^\\text{C}_t))$$"
   ]
  },
  {
   "cell_type": "code",
   "execution_count": 12,
   "metadata": {},
   "outputs": [],
   "source": [
    "#   INPUTS    #\n",
    "sS = 1. # Probability of (immediate) CTA given symptoms\n",
    "sC = 0.\n",
    "xi = 1.\n",
    "\n",
    "Deltat_test = 0\n",
    "\n",
    "# The original reproduction number:\n",
    "R0_0 = 1\n",
    "alpha=4.865916955  # parameters of the gamma distrbution\n",
    "beta=0.6487889273\n",
    "\n",
    "# The incubation period distribution\n",
    "mu = 1.644\n",
    "sigma = 0.363"
   ]
  },
  {
   "cell_type": "code",
   "execution_count": null,
   "metadata": {
    "scrolled": false
   },
   "outputs": [
    {
     "name": "stdout",
     "output_type": "stream",
     "text": [
      "t=0\n",
      "    FA_t(infty)=0.95 \n",
      "    FT_t(infty)=0.95, \n",
      "    R_t=0.05\n",
      "t=7.5\n",
      "    FAs(infty)=0.95  FAc_t(infty)=0.0  \n",
      "    FA_t(infty)=0.95 \n",
      "    FT_t(infty)=0.95, \n",
      "    R_t=0.05\n",
      "t=15.0\n",
      "    FAs(infty)=0.95  FAc_t(infty)=0.0  \n",
      "    FA_t(infty)=0.95 \n",
      "    FT_t(infty)=0.95, \n",
      "    R_t=0.05\n",
      "t=22.5\n",
      "    FAs(infty)=0.95  FAc_t(infty)=0.0  \n",
      "    FA_t(infty)=0.95 \n",
      "    FT_t(infty)=0.95, \n",
      "    R_t=0.05\n",
      "t=30.1\n",
      "    FAs(infty)=0.95  FAc_t(infty)=0.0  \n",
      "    FA_t(infty)=0.95 \n",
      "    FT_t(infty)=0.95, \n",
      "    R_t=0.05\n"
     ]
    }
   ],
   "source": [
    "# %matplotlib notebook\n",
    "\n",
    "def r0_0(tau):\n",
    "    return R0_0 * gamma_density(tau, alpha, beta)\n",
    "\n",
    "def psi(t):\n",
    "    return 1\n",
    "\n",
    "def R0(t):\n",
    "    return R0_0 * psi(t)\n",
    "\n",
    "def r0(t, tau):\n",
    "    return R0(t) * r0_0(tau)\n",
    "\n",
    "def FS(tau, normalization=1.):\n",
    "    if tau>0:\n",
    "        return normalization*lognormal_cdf(tau, mu, sigma)\n",
    "    else:\n",
    "        return 0\n",
    "\n",
    "def FAs(tau):\n",
    "    return sS * FS(tau)\n",
    "\n",
    "\n",
    "p_DeltaAT = DeltaMeasure(position=Deltat_test, height=1)\n",
    "\n",
    "\n",
    "##### Iterations \n",
    "\n",
    "N_iterations = 6\n",
    "\n",
    "\n",
    "# FA_list = []\n",
    "t_list = []\n",
    "pC_list = []\n",
    "FT_list = []\n",
    "FTinfty_list = []\n",
    "R_list = []\n",
    "\n",
    "fig = plt.figure(figsize=(10,15))\n",
    "\n",
    "r_tplot = fig.add_subplot(311)\n",
    "r_tplot.set_xlabel('tau [days]')\n",
    "r_tplot.set_ylabel('r_t')\n",
    "r_tplot.grid(True)\n",
    "r_tplot.set_xlim(0,tau_max)\n",
    "r_tplot.set_ylim(0,R0_0/6)\n",
    "\n",
    "tau_values = np.arange(0, tau_max + step, step)\n",
    "\n",
    "for i in range(0, N_iterations):\n",
    "    \n",
    "    if i == 0:\n",
    "        t = 0\n",
    "        FA_t = FAs\n",
    "        \n",
    "    else:\n",
    "        \n",
    "        FT_prev_values = FT_list[-1]\n",
    "        FT_prev = f_from_list(FT_prev_values, 0, tau_max, step)\n",
    "        pC_prev_values = pC_list[-1]\n",
    "        pC_prev = f_from_list(pC_prev_values, 0, tau_max, step)\n",
    "        \n",
    "#         tauC_exp = integrate.quad(lambda tau: 1 - FC_prev(tau), 0, tau_max)[0]\n",
    "        tauC_exp = integrate.quad(lambda tau: tau * pC_prev(tau), 0, tau_max)[0]\n",
    "        t = t_list[-1] + tauC_exp\n",
    "        FAc_t = lambda tau: sC * FT_prev(tau + tauC_exp)  # Time evolution formula here\n",
    "        FA_t = lambda tau: FAs(tau) + FAc_t(tau) - FAs(tau) * FAc_t(tau)\n",
    "        \n",
    "    FT_t = convolve(FA_t, p_DeltaAT, 0, tau_max, step)\n",
    "    FT_t_infty = FT_t(tau_max)\n",
    "    r_t = make_r_t_from_test_cdf(lambda tau: r0(t, tau), FT_t, xi)\n",
    "    R_t = integrate.quad(r_t, 0, tau_max)[0]\n",
    "    pC_t = lambda tau: r_t(tau)/R_t\n",
    "    \n",
    "    t_list.append(t)\n",
    "    r_t_values = list_from_f(r_t, 0, tau_max, step)\n",
    "    pC_t_values = list_from_f(pC_t, 0, tau_max, step)\n",
    "    FT_t_values = list_from_f(FT_t, 0, tau_max, step)\n",
    "    pC_list.append(pC_t_values) \n",
    "    FT_list.append(FT_t_values) \n",
    "    FTinfty_list.append(FT_t_infty)\n",
    "    R_list.append(R_t)\n",
    "    \n",
    "    print(f\"t={round(t, 1)}\")\n",
    "    if i>0:\n",
    "        print(\n",
    "              f\"    FAs(infty)={FAs(tau_max)}  \"\n",
    "              f\"FAc_t(infty)={FAc_t(tau_max)}  \"\n",
    "        )\n",
    "    print(f\"    FA_t(infty)={FA_t(tau_max)} \\n\"\n",
    "          f\"    FT_t(infty)={round(FT_t_infty, 2)}, \\n\"\n",
    "          f\"    R_t={round(R_t, 2)}\")\n",
    "    \n",
    "    \n",
    "    r_tplot.plot(tau_values, r_t_values, \"r\")\n",
    "\n",
    "    fig.canvas.draw()\n",
    "    \n",
    "#     sleep(0.1)\n",
    "    \n",
    "R_tplot = fig.add_subplot(312)\n",
    "R_tplot.set_xlabel('t [days]')\n",
    "R_tplot.set_ylabel('R_t')\n",
    "R_tplot.grid(True)\n",
    "R_tplot.set_xlim(0,t_list[-1])\n",
    "R_tplot.set_ylim(0,R0_0)\n",
    "R_tplot.plot(t_list, R_list, \"r\")\n",
    "\n",
    "\n",
    "\n",
    "FTinftyplot = fig.add_subplot(313)\n",
    "FTinftyplot.set_xlabel('t [days]')\n",
    "FTinftyplot.set_ylabel('FT_t(infty)')\n",
    "FTinftyplot.grid(True)\n",
    "FTinftyplot.set_xlim(0,t_list[-1])\n",
    "FTinftyplot.set_ylim(0,1)\n",
    "FTinftyplot.plot(t_list, FTinfty_list, \"r\")"
   ]
  },
  {
   "cell_type": "markdown",
   "metadata": {},
   "source": [
    "## Evolution of $R_t$ in the two-components model\n",
    "\n",
    "$$ \\begin{array}{rcl}\n",
    "P_t\\,s^\\text{C,app}_t F^\\text{T,app}_t(\\tau) + (1-P_t)\\,s^\\text{C, no app}_t F^\\text{T,no app}_t(\\tau) &\\simeq&  F^\\text{A,c,app}_{t+\\mathbb{E}(\\tilde\\tau^\\text{C}_t)}(\\tau - \\mathbb{E}(\\tilde\\tau^\\text{C}_t))\\,,\\\\\n",
    "P_t\\,s^\\text{C,no app}_t F^\\text{T,app}_t(\\tau) + (1-P_t)\\,s^\\text{C, no app}_t F^\\text{T,no app}_t(\\tau) &\\simeq&  F^\\text{A,c,no app}_{t+\\mathbb{E}(\\tilde\\tau^\\text{C}_t)}(\\tau - \\mathbb{E}(\\tilde\\tau^\\text{C}_t))\\,.\n",
    "\\end{array}$$"
   ]
  },
  {
   "cell_type": "code",
   "execution_count": 25,
   "metadata": {},
   "outputs": [],
   "source": [
    "#   INPUTS    #\n",
    "sSapp = 0.4 # Probability of (immediate) CTA given symptoms\n",
    "sSnoapp = 0.2\n",
    "sCapp = 0.6\n",
    "sCnoapp = 0.2\n",
    "xi = 0.8\n",
    "\n",
    "def epsilon(t):\n",
    "    if t<=10:\n",
    "        return 0\n",
    "    else:\n",
    "        return 0.6\n",
    "\n",
    "Deltat_testapp = 2\n",
    "Deltat_testnoapp = 4\n",
    "\n",
    "# The original reproduction number:\n",
    "R0_0 = 1\n",
    "alpha=4.865916955  # parameters of the gamma distrbution\n",
    "beta=0.6487889273\n",
    "\n",
    "# The incubation period distribution\n",
    "mu = 1.644\n",
    "sigma = 0.363\n",
    "\n"
   ]
  },
  {
   "cell_type": "code",
   "execution_count": 27,
   "metadata": {
    "scrolled": false
   },
   "outputs": [
    {
     "name": "stdout",
     "output_type": "stream",
     "text": [
      "t=0, \n",
      "    FTapp_t(infty)=0.4,  FTnoapp_t(infty)=0.2,  FT_t(infty)=0.2, \n",
      "    epsilon_t=0,  P_t=0.0    R_t=0.96    E(tauC)=7.32\n",
      "t=7.4, \n",
      "    FTapp_t(infty)=0.42,  FTnoapp_t(infty)=0.23,  FT_t(infty)=0.23, \n",
      "    epsilon_t=0,  P_t=0.0    R_t=0.94    E(tauC)=7.29\n",
      "t=14.7, \n",
      "    FTapp_t(infty)=0.43,  FTnoapp_t(infty)=0.24,  FT_t(infty)=0.35, \n",
      "    epsilon_t=0.6,  P_t=0.57    R_t=0.87    E(tauC)=7.15\n",
      "t=21.9, \n",
      "    FTapp_t(infty)=0.5,  FTnoapp_t(infty)=0.26,  FT_t(infty)=0.4, \n",
      "    epsilon_t=0.6,  P_t=0.55    R_t=0.82    E(tauC)=7.15\n",
      "t=29.1, \n",
      "    FTapp_t(infty)=0.51,  FTnoapp_t(infty)=0.26,  FT_t(infty)=0.41, \n",
      "    epsilon_t=0.6,  P_t=0.55    R_t=0.81    E(tauC)=7.15\n",
      "t=36.3, \n",
      "    FTapp_t(infty)=0.52,  FTnoapp_t(infty)=0.26,  FT_t(infty)=0.41, \n",
      "    epsilon_t=0.6,  P_t=0.55    R_t=0.8    E(tauC)=7.16\n"
     ]
    },
    {
     "data": {
      "text/plain": [
       "[<matplotlib.lines.Line2D at 0x7f36fd161730>]"
      ]
     },
     "execution_count": 27,
     "metadata": {},
     "output_type": "execute_result"
    },
    {
     "data": {
      "image/png": "[encoded data removed]",
      "text/plain": [
       "<Figure size 720x1080 with 3 Axes>"
      ]
     },
     "metadata": {
      "needs_background": "light"
     },
     "output_type": "display_data"
    }
   ],
   "source": [
    "# %matplotlib notebook\n",
    "\n",
    "def r0_0(tau):\n",
    "    return R0_0 * gamma_density(tau, alpha, beta)\n",
    "\n",
    "def psi(t):\n",
    "    return 1\n",
    "\n",
    "def R0(t):\n",
    "    return R0_0 * psi(t)\n",
    "\n",
    "def r0(t, tau):\n",
    "    return R0(t) * r0_0(tau)\n",
    "\n",
    "def FS(tau):\n",
    "    if tau>0:\n",
    "        return lognormal_cdf(tau, mu, sigma)\n",
    "    else:\n",
    "        return 0\n",
    "\n",
    "def FAsapp(tau):\n",
    "    return sSapp * FS(tau)\n",
    "\n",
    "def FAsnoapp(tau):\n",
    "    return sSnoapp * FS(tau)\n",
    "\n",
    "\n",
    "p_DeltaATapp = DeltaMeasure(position=Deltat_testapp, height=1)\n",
    "p_DeltaATnoapp = DeltaMeasure(position=Deltat_testnoapp, height=1)\n",
    "\n",
    "\n",
    "\n",
    "\n",
    "##### Iterations \n",
    "\n",
    "N_iterations = 6\n",
    "\n",
    "\n",
    "# FA_list = []\n",
    "t_list = []\n",
    "tildepC_list = []\n",
    "FTapp_list = []\n",
    "FTnoapp_list = []\n",
    "FTinftyapp_list = []\n",
    "FTinftynoapp_list = []\n",
    "FTinfty_list = []\n",
    "R_list = []\n",
    "Rapp_list = []\n",
    "Rnoapp_list = []\n",
    "P_list = []\n",
    "tauC_exp_list = []\n",
    "\n",
    "fig = plt.figure(figsize=(10,15))\n",
    "\n",
    "r_tplot = fig.add_subplot(311)\n",
    "r_tplot.set_xlabel('Day')\n",
    "r_tplot.set_ylabel('r_t')\n",
    "r_tplot.grid(True)\n",
    "r_tplot.set_xlim(0,tau_max)\n",
    "r_tplot.set_ylim(0,R0_0/6)\n",
    "\n",
    "tau_values = np.arange(0, tau_max + step, step)\n",
    "\n",
    "\n",
    "for i in range(0, N_iterations):\n",
    "    \n",
    "    if i == 0:\n",
    "        t = 0\n",
    "        FAapp_t = FAsapp\n",
    "        FAnoapp_t = FAsnoapp\n",
    "        \n",
    "    else:\n",
    "        \n",
    "        FTapp_prev_values = FTapp_list[-1]\n",
    "        FTapp_prev = f_from_list(FTapp_prev_values, 0, tau_max, step)\n",
    "        FTnoapp_prev_values = FTnoapp_list[-1]\n",
    "        FTnoapp_prev = f_from_list(FTnoapp_prev_values, 0, tau_max, step)\n",
    "        tildepC_prev_values = tildepC_list[-1]\n",
    "        tildepC_prev = f_from_list(tildepC_prev_values, 0, tau_max, step)\n",
    "        \n",
    "\n",
    "        tildetauC_exp = integrate.quad(lambda tau: tau * tildepC_prev(tau), 0, tau_max)[0]\n",
    "        t = t_list[-1] + tildetauC_exp\n",
    "        \n",
    "        P_prev = P_list[-1]\n",
    "        \n",
    "        # Evolution equations here:\n",
    "        LHSapp = lambda tau: sCapp * P_prev * FTapp_prev(tau) + (1 - P_prev) * sCnoapp * FTnoapp_prev(tau)\n",
    "        FAcapp_t = lambda tau: LHSapp(tau + tildetauC_exp)\n",
    "        FAapp_t = lambda tau: FAsapp(tau) + FAcapp_t(tau) - FAsapp(tau) * FAcapp_t(tau)\n",
    "        \n",
    "        LHSnoapp = lambda tau: sCnoapp * P_prev * FTapp_prev(tau) + (1 - P_prev) * sCnoapp * FTnoapp_prev(tau)\n",
    "        FAcnoapp_t = lambda tau: LHSnoapp(tau + tildetauC_exp)\n",
    "        FAnoapp_t = lambda tau: FAsnoapp(tau) + FAcnoapp_t(tau) - FAsnoapp(tau) * FAcnoapp_t(tau)\n",
    "        \n",
    "    FTapp_t = convolve(FAapp_t, p_DeltaATapp, 0, tau_max, step)\n",
    "    rapp_t = make_r_t_from_test_cdf(lambda tau: r0(t, tau), FTapp_t, xi)\n",
    "    \n",
    "    FTnoapp_t = convolve(FAnoapp_t, p_DeltaATnoapp, 0, tau_max, step)\n",
    "    rnoapp_t = make_r_t_from_test_cdf(lambda tau: r0(t, tau), FTnoapp_t, xi)\n",
    "    \n",
    "    r_t = lambda tau: epsilon(t) * rapp_t(tau) + (1-epsilon(t)) * rnoapp_t(tau)\n",
    "\n",
    "    Rapp_t = integrate.quad(rapp_t, 0, tau_max)[0]\n",
    "    Rnoapp_t = integrate.quad(rnoapp_t, 0, tau_max)[0]\n",
    "    R_t = integrate.quad(r_t, 0, tau_max)[0]\n",
    "    \n",
    "    tauC_exp = integrate.quad(lambda tau: tau * r_t(tau)/R_t, 0, tau_max)[0]\n",
    "    \n",
    "    P_t = epsilon(t) * Rapp_t / R_t\n",
    "    \n",
    "    tilder_t = lambda tau : P_t * rapp_t(tau) + (1-P_t) * rnoapp_t(tau)\n",
    "    tildeR_t = integrate.quad(tilder_t, 0, tau_max)[0]\n",
    "    tildepC_t = lambda tau: tilder_t(tau)/tildeR_t\n",
    "\n",
    "    FTinftyapp = FTapp_t(tau_max)\n",
    "    FTinftynoapp = FTnoapp_t(tau_max)\n",
    "    FTinfty = epsilon(t) * FTinftyapp + (1-epsilon(t)) * FTinftynoapp\n",
    "    \n",
    "    t_list.append(t)\n",
    "    r_t_values = list_from_f(r_t, 0, tau_max, step)\n",
    "    tildepC_t_values = list_from_f(tildepC_t, 0, tau_max, step)\n",
    "    FTapp_t_values = list_from_f(FTapp_t, 0, tau_max, step)\n",
    "    FTnoapp_t_values = list_from_f(FTnoapp_t, 0, tau_max, step)\n",
    "    tildepC_list.append(tildepC_t_values) \n",
    "    FTapp_list.append(FTapp_t_values) \n",
    "    FTnoapp_list.append(FTnoapp_t_values)\n",
    "    FTinftyapp_list.append(FTinftyapp)\n",
    "    FTinftynoapp_list.append(FTinftynoapp)\n",
    "    FTinfty_list.append(FTinfty)\n",
    "    R_list.append(R_t)\n",
    "    Rapp_list.append(Rapp_t)\n",
    "    Rnoapp_list.append(Rnoapp_t)\n",
    "    P_list.append(P_t)\n",
    "    tauC_exp_list.append(tauC_exp)\n",
    "    \n",
    "    print(f\"t={round(t, 1)}, \\n\"\n",
    "          f\"    FTapp_t(infty)={round(FTinftyapp, 2)},  FTnoapp_t(infty)={round(FTinftynoapp, 2)},  FT_t(infty)={round(FTinfty, 2)}, \\n\"\n",
    "          f\"    epsilon_t={epsilon(t)},  P_t={round(P_t, 2)}\"\n",
    "          f\"    R_t={round(R_t, 2)}\"\n",
    "          f\"    E(tauC)={round(tauC_exp, 2)}\"\n",
    "         )\n",
    "\n",
    "    r_tplot.plot(tau_values, r_t_values, \"r\")\n",
    "\n",
    "    fig.canvas.draw()\n",
    "      \n",
    "R_tplot = fig.add_subplot(312)\n",
    "R_tplot.set_xlabel('t [days]')\n",
    "R_tplot.set_ylabel('R_t')\n",
    "R_tplot.grid(True)\n",
    "R_tplot.set_xlim(0,t_list[-1])\n",
    "R_tplot.set_ylim(0,R0_0)\n",
    "R_tplot.plot(t_list, R_list, color=\"black\",  label=\"R\")\n",
    "R_tplot.plot(t_list, Rapp_list, color=\"green\", label=\"R app\")\n",
    "R_tplot.plot(t_list, Rnoapp_list, color=\"red\", label=\"R no app\")\n",
    "R_tplot.legend()\n",
    "\n",
    "\n",
    "Pplot = fig.add_subplot(313)\n",
    "Pplot.set_xlabel('t [days]')\n",
    "Pplot.set_ylabel('P_t')\n",
    "Pplot.grid(True)\n",
    "Pplot.set_xlim(0,t_list[-1])\n",
    "Pplot.set_ylim(0,1)\n",
    "Pplot.plot(t_list, P_list, \"r\")"
   ]
  },
  {
   "cell_type": "code",
   "execution_count": null,
   "metadata": {},
   "outputs": [],
   "source": []
  },
  {
   "cell_type": "code",
   "execution_count": null,
   "metadata": {},
   "outputs": [],
   "source": []
  }
 ],
 "metadata": {
  "kernelspec": {
   "display_name": "Python 3.8 (venv)",
   "language": "python",
   "name": "venv3.8"
  },
  "language_info": {
   "codemirror_mode": {
    "name": "ipython",
    "version": 3
   },
   "file_extension": ".py",
   "mimetype": "text/x-python",
   "name": "python",
   "nbconvert_exporter": "python",
   "pygments_lexer": "ipython3",
   "version": "3.8.0"
  }
 },
 "nbformat": 4,
 "nbformat_minor": 4
}
